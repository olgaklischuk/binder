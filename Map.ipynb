{
 "cells": [
  {
   "cell_type": "code",
   "execution_count": 18,
   "id": "f7ffad52-7cde-4541-939f-d7e0a3d31fcb",
   "metadata": {},
   "outputs": [
    {
     "name": "stdout",
     "output_type": "stream",
     "text": [
      "Requirement already satisfied: matplotlib in /srv/conda/envs/notebook/lib/python3.7/site-packages (3.4.3)\n",
      "Requirement already satisfied: cycler>=0.10 in /srv/conda/envs/notebook/lib/python3.7/site-packages (from matplotlib) (0.10.0)\n",
      "Requirement already satisfied: python-dateutil>=2.7 in /srv/conda/envs/notebook/lib/python3.7/site-packages (from matplotlib) (2.8.2)\n",
      "Requirement already satisfied: pillow>=6.2.0 in /srv/conda/envs/notebook/lib/python3.7/site-packages (from matplotlib) (8.3.2)\n",
      "Requirement already satisfied: pyparsing>=2.2.1 in /srv/conda/envs/notebook/lib/python3.7/site-packages (from matplotlib) (2.4.7)\n",
      "Requirement already satisfied: kiwisolver>=1.0.1 in /srv/conda/envs/notebook/lib/python3.7/site-packages (from matplotlib) (1.3.2)\n",
      "Requirement already satisfied: numpy>=1.16 in /srv/conda/envs/notebook/lib/python3.7/site-packages (from matplotlib) (1.21.2)\n",
      "Requirement already satisfied: six in /srv/conda/envs/notebook/lib/python3.7/site-packages (from cycler>=0.10->matplotlib) (1.16.0)\n",
      "Note: you may need to restart the kernel to use updated packages.\n"
     ]
    }
   ],
   "source": [
    "pip install matplotlib "
   ]
  },
  {
   "cell_type": "code",
   "execution_count": null,
   "id": "93a43c57-a94c-4a4c-8798-b982e835fbee",
   "metadata": {},
   "outputs": [],
   "source": [
    "#pip install mpl_toolkits.basemap"
   ]
  },
  {
   "cell_type": "code",
   "execution_count": 15,
   "id": "aa6c6ab2-6d13-4bfa-b0e6-3c3ad4b8a75a",
   "metadata": {},
   "outputs": [],
   "source": [
    "import matplotlib as mpl"
   ]
  },
  {
   "cell_type": "code",
   "execution_count": 16,
   "id": "60fadc6b-9018-4451-bd14-df6349831f21",
   "metadata": {},
   "outputs": [
    {
     "ename": "ModuleNotFoundError",
     "evalue": "No module named 'mpl_toolkits.basemap'",
     "output_type": "error",
     "traceback": [
      "\u001b[0;31m---------------------------------------------------------------------------\u001b[0m",
      "\u001b[0;31mModuleNotFoundError\u001b[0m                       Traceback (most recent call last)",
      "\u001b[0;32m/tmp/ipykernel_137/3341290477.py\u001b[0m in \u001b[0;36m<module>\u001b[0;34m\u001b[0m\n\u001b[0;32m----> 1\u001b[0;31m \u001b[0;32mfrom\u001b[0m \u001b[0mmpl_toolkits\u001b[0m\u001b[0;34m.\u001b[0m\u001b[0mbasemap\u001b[0m \u001b[0;32mimport\u001b[0m \u001b[0mBasemap\u001b[0m\u001b[0;34m\u001b[0m\u001b[0;34m\u001b[0m\u001b[0m\n\u001b[0m",
      "\u001b[0;31mModuleNotFoundError\u001b[0m: No module named 'mpl_toolkits.basemap'"
     ]
    }
   ],
   "source": [
    "from mpl_toolkits.basemap import Basemap"
   ]
  },
  {
   "cell_type": "code",
   "execution_count": 8,
   "id": "b653c207-0715-4b68-b41d-06dc6ae09116",
   "metadata": {},
   "outputs": [],
   "source": [
    "import matplotlib.pyplot as plt"
   ]
  },
  {
   "cell_type": "code",
   "execution_count": 9,
   "id": "1ee4e9b1-9f09-4966-83ce-c009a4f632a7",
   "metadata": {},
   "outputs": [],
   "source": [
    "import numpy as np"
   ]
  },
  {
   "cell_type": "code",
   "execution_count": null,
   "id": "8b5c4c11-7658-4a37-8b6d-3750fccf3b8a",
   "metadata": {},
   "outputs": [],
   "source": [
    "m = Basemap(projection='RobinsonProjection')"
   ]
  },
  {
   "cell_type": "code",
   "execution_count": null,
   "id": "bf9d62e6-ca5f-4ad2-acbc-30c6e9d4e32f",
   "metadata": {},
   "outputs": [],
   "source": [
    "m.drawcoastlines()\n",
    "plt.show()"
   ]
  },
  {
   "cell_type": "code",
   "execution_count": null,
   "id": "3b5134d1-77e0-492c-80c7-8942c811b77d",
   "metadata": {},
   "outputs": [],
   "source": [
    "figsize(12,9)"
   ]
  },
  {
   "cell_type": "code",
   "execution_count": null,
   "id": "373036a6-75e1-404b-ba18-f8f0c279bf75",
   "metadata": {},
   "outputs": [],
   "source": [
    "m.drawcountries()"
   ]
  },
  {
   "cell_type": "code",
   "execution_count": null,
   "id": "d07b6974-627f-421e-9341-365d020a7d5e",
   "metadata": {},
   "outputs": [],
   "source": [
    "m.fillcountries(color=\"lightgreen\",lake_color=\"aqua\")"
   ]
  },
  {
   "cell_type": "code",
   "execution_count": null,
   "id": "eb41b4d9-6d90-4bf3-b8c8-95478d117263",
   "metadata": {},
   "outputs": [],
   "source": [
    "m.drawesmask(ocean_color='lightgreen',ocean_colour='blue')"
   ]
  },
  {
   "cell_type": "code",
   "execution_count": null,
   "id": "47222ac0-d1ed-4c96-a16c-859e94b865e1",
   "metadata": {},
   "outputs": [],
   "source": [
    "m.etopo()"
   ]
  }
 ],
 "metadata": {
  "kernelspec": {
   "display_name": "Python 3 (ipykernel)",
   "language": "python",
   "name": "python3"
  },
  "language_info": {
   "codemirror_mode": {
    "name": "ipython",
    "version": 3
   },
   "file_extension": ".py",
   "mimetype": "text/x-python",
   "name": "python",
   "nbconvert_exporter": "python",
   "pygments_lexer": "ipython3",
   "version": "3.7.10"
  }
 },
 "nbformat": 4,
 "nbformat_minor": 5
}
