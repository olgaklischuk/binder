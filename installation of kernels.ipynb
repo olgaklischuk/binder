{
 "cells": [
  {
   "cell_type": "code",
   "execution_count": 1,
   "id": "bc6816a0-bc24-4e39-a6c8-bc4177ff9617",
   "metadata": {},
   "outputs": [
    {
     "name": "stdout",
     "output_type": "stream",
     "text": [
      "Collecting git+https://github.com/Calysto/matlab_kernel\n",
      "  Cloning https://github.com/Calysto/matlab_kernel to /tmp/pip-req-build-x30mwn6z\n",
      "  Running command git clone -q https://github.com/Calysto/matlab_kernel /tmp/pip-req-build-x30mwn6z\n",
      "Collecting metakernel>=0.23.0\n",
      "  Downloading metakernel-0.27.5-py2.py3-none-any.whl (208 kB)\n",
      "\u001b[K     |████████████████████████████████| 208 kB 4.6 MB/s eta 0:00:01\n",
      "\u001b[?25hRequirement already satisfied: jupyter_client>=4.4.0 in /srv/conda/envs/notebook/lib/python3.7/site-packages (from matlab-kernel==0.16.11) (6.1.11)\n",
      "Requirement already satisfied: ipython>=4.0.0 in /srv/conda/envs/notebook/lib/python3.7/site-packages (from matlab-kernel==0.16.11) (7.21.0)\n",
      "Collecting wurlitzer>=1.0.2\n",
      "  Downloading wurlitzer-2.1.1-py2.py3-none-any.whl (6.2 kB)\n",
      "Requirement already satisfied: jedi>=0.16 in /srv/conda/envs/notebook/lib/python3.7/site-packages (from ipython>=4.0.0->matlab-kernel==0.16.11) (0.18.0)\n",
      "Requirement already satisfied: backcall in /srv/conda/envs/notebook/lib/python3.7/site-packages (from ipython>=4.0.0->matlab-kernel==0.16.11) (0.2.0)\n",
      "Requirement already satisfied: decorator in /srv/conda/envs/notebook/lib/python3.7/site-packages (from ipython>=4.0.0->matlab-kernel==0.16.11) (4.4.2)\n",
      "Requirement already satisfied: setuptools>=18.5 in /srv/conda/envs/notebook/lib/python3.7/site-packages (from ipython>=4.0.0->matlab-kernel==0.16.11) (49.6.0.post20210108)\n",
      "Requirement already satisfied: prompt-toolkit!=3.0.0,!=3.0.1,<3.1.0,>=2.0.0 in /srv/conda/envs/notebook/lib/python3.7/site-packages (from ipython>=4.0.0->matlab-kernel==0.16.11) (3.0.16)\n",
      "Requirement already satisfied: pygments in /srv/conda/envs/notebook/lib/python3.7/site-packages (from ipython>=4.0.0->matlab-kernel==0.16.11) (2.8.0)\n",
      "Requirement already satisfied: pexpect>4.3 in /srv/conda/envs/notebook/lib/python3.7/site-packages (from ipython>=4.0.0->matlab-kernel==0.16.11) (4.8.0)\n",
      "Requirement already satisfied: pickleshare in /srv/conda/envs/notebook/lib/python3.7/site-packages (from ipython>=4.0.0->matlab-kernel==0.16.11) (0.7.5)\n",
      "Requirement already satisfied: traitlets>=4.2 in /srv/conda/envs/notebook/lib/python3.7/site-packages (from ipython>=4.0.0->matlab-kernel==0.16.11) (5.0.5)\n",
      "Requirement already satisfied: parso<0.9.0,>=0.8.0 in /srv/conda/envs/notebook/lib/python3.7/site-packages (from jedi>=0.16->ipython>=4.0.0->matlab-kernel==0.16.11) (0.8.1)\n",
      "Requirement already satisfied: tornado>=4.1 in /srv/conda/envs/notebook/lib/python3.7/site-packages (from jupyter_client>=4.4.0->matlab-kernel==0.16.11) (6.1)\n",
      "Requirement already satisfied: python-dateutil>=2.1 in /srv/conda/envs/notebook/lib/python3.7/site-packages (from jupyter_client>=4.4.0->matlab-kernel==0.16.11) (2.8.1)\n",
      "Requirement already satisfied: pyzmq>=13 in /srv/conda/envs/notebook/lib/python3.7/site-packages (from jupyter_client>=4.4.0->matlab-kernel==0.16.11) (22.0.3)\n",
      "Requirement already satisfied: jupyter-core>=4.6.0 in /srv/conda/envs/notebook/lib/python3.7/site-packages (from jupyter_client>=4.4.0->matlab-kernel==0.16.11) (4.7.1)\n",
      "Requirement already satisfied: ipykernel in /srv/conda/envs/notebook/lib/python3.7/site-packages (from metakernel>=0.23.0->matlab-kernel==0.16.11) (5.1.4)\n",
      "Requirement already satisfied: ptyprocess>=0.5 in /srv/conda/envs/notebook/lib/python3.7/site-packages (from pexpect>4.3->ipython>=4.0.0->matlab-kernel==0.16.11) (0.7.0)\n",
      "Requirement already satisfied: wcwidth in /srv/conda/envs/notebook/lib/python3.7/site-packages (from prompt-toolkit!=3.0.0,!=3.0.1,<3.1.0,>=2.0.0->ipython>=4.0.0->matlab-kernel==0.16.11) (0.2.5)\n",
      "Requirement already satisfied: six>=1.5 in /srv/conda/envs/notebook/lib/python3.7/site-packages (from python-dateutil>=2.1->jupyter_client>=4.4.0->matlab-kernel==0.16.11) (1.15.0)\n",
      "Requirement already satisfied: ipython-genutils in /srv/conda/envs/notebook/lib/python3.7/site-packages (from traitlets>=4.2->ipython>=4.0.0->matlab-kernel==0.16.11) (0.2.0)\n",
      "Building wheels for collected packages: matlab-kernel\n",
      "  Building wheel for matlab-kernel (setup.py) ... \u001b[?25ldone\n",
      "\u001b[?25h  Created wheel for matlab-kernel: filename=matlab_kernel-0.16.11-py3-none-any.whl size=9139 sha256=d6f0200121746e084f77e75034532af2fd404579a4130cd0fe0ac2285a645639\n",
      "  Stored in directory: /tmp/pip-ephem-wheel-cache-c8f5qdm8/wheels/5a/f8/a3/6806265c8be40640867046a340bc9e30d10d1689ed32670d0d\n",
      "Successfully built matlab-kernel\n",
      "Installing collected packages: wurlitzer, metakernel, matlab-kernel\n",
      "Successfully installed matlab-kernel-0.16.11 metakernel-0.27.5 wurlitzer-2.1.1\n",
      "Note: you may need to restart the kernel to use updated packages.\n"
     ]
    }
   ],
   "source": [
    "pip install git+https://github.com/Calysto/matlab_kernel"
   ]
  },
  {
   "cell_type": "code",
   "execution_count": null,
   "id": "b3187df6-912d-4a26-92c8-7629fbfadce9",
   "metadata": {},
   "outputs": [],
   "source": []
  }
 ],
 "metadata": {
  "kernelspec": {
   "display_name": "Matlab",
   "language": "matlab",
   "name": "matlab"
  },
  "language_info": {
   "codemirror_mode": "octave",
   "file_extension": ".m",
   "help_links": [
    {
     "text": "MetaKernel Magics",
     "url": "https://metakernel.readthedocs.io/en/latest/source/README.html"
    }
   ],
   "mimetype": "text/x-octave",
   "name": "matlab",
   "version": "0.16.11"
  }
 },
 "nbformat": 4,
 "nbformat_minor": 5
}
