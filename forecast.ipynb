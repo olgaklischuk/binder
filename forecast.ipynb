{
 "cells": [
  {
   "cell_type": "code",
   "execution_count": 5,
   "id": "ad0f427f-9c87-45bc-a409-3cbaf0ab522f",
   "metadata": {},
   "outputs": [],
   "source": [
    "\n",
    "# forecast function\n",
    "forecast_ts1<-function(x, name,h=24, date=\"2021-01-01\"){\n",
    "    library(forecast)\n",
    "    library(lubridate)\n",
    "    library(dplyr)\n",
    "    library(tidyverse)\n",
    "    if(is.numeric(x)==FALSE){x<-x[[1]]}\n",
    "    length.x<-length(x)\n",
    "    date<-as.date(date)\n",
    "    x%>%\n",
    "    auto.arima(max.order = c(1,1,1))%>%\n",
    "    forecast(level=seq(10,90,by=10),h=h)%>%\n",
    "    data.frame(cbind(x$lower,x$x[(length.x-23):length.x],x$upper))\n",
    "    \n",
    "    colnames(x)<-c(\"lower.90.pt\",\"trendline\",\"upper.90.pt\")\n",
    "    \n",
    "    time<-seq.Date(from=as.Date(date),by=\"months\",length.out=length.x+h)\n",
    "    ylim=range(x[,])\n",
    "    start.1<-c(year(date),month(date))\n",
    "    plot<-ggplot2::autoplot(ts(x$x,start=c(start.1),frequency=12),ylab=\"\")\n",
    "    +geom_forecast(forecast(auto.arima(ts(x$x,start=c(start.1),frequency=12),\n",
    "    max.order=c(1,0,1)),level=seq(11,c(55,66,99))))\n",
    "    setwd(getwd())\n",
    "    write.csv(x,paste(title,\"forecast.csv\",sep=\".\"))\n",
    "    return(list(x$x,x$lower.90.pt,x$upper.90.pt))\n",
    "               \n",
    "}"
   ]
  },
  {
   "cell_type": "code",
   "execution_count": null,
   "id": "608788b1-6492-4a18-82b5-a7876e7be4d9",
   "metadata": {},
   "outputs": [
    {
     "name": "stderr",
     "output_type": "stream",
     "text": [
      "Installing packages into ‘/srv/rlibs’\n",
      "(as ‘lib’ is unspecified)\n",
      "\n"
     ]
    }
   ],
   "source": [
    "install.packages(c(\"forecast\",\"dplyr\",\"lubridate\"))"
   ]
  },
  {
   "cell_type": "code",
   "execution_count": 8,
   "id": "800f4cf9-9c1e-4bde-9c63-24ef980bb42e",
   "metadata": {},
   "outputs": [
    {
     "name": "stdout",
     "output_type": "stream",
     "text": [
      "function(x, name,h=24, date=\"2021-01-01\"){\n",
      "    library(forecast)\n",
      "    library(lubridate)\n",
      "    library(dplyr)\n",
      "    library(tidyverse)\n",
      "    if(is.numeric(x)==FALSE){x<-x[[1]]}\n",
      "    length.x<-length(x)\n",
      "    date<-as.date(date)\n",
      "    x%>%\n",
      "    auto.arima(max.order = c(1,1,1))%>%\n",
      "    forecast(level=seq(10,90,by=10),h=h)%>%\n",
      "    data.frame(cbind(x$lower,x$x[(length.x-23):length.x],x$upper))\n",
      "    \n",
      "    colnames(x)<-c(\"lower.90.pt\",\"trendline\",\"upper.90.pt\")\n",
      "    \n",
      "    time<-seq.Date(from=as.Date(date),by=\"months\",length.out=length.x+h)\n",
      "    ylim=range(x[,])\n",
      "    start.1<-c(year(date),month(date))\n",
      "    plot<-ggplot2::autoplot(ts(x$x,start=c(start.1),frequency=12),ylab=\"\")\n",
      "    +geom_forecast(forecast(auto.arima(ts(x$x,start=c(start.1),frequency=12),\n",
      "    max.order=c(1,0,1)),level=seq(11,c(55,66,99))))\n",
      "    setwd(getwd())\n",
      "    write.csv(x,paste(title,\"forecast.csv\",sep=\".\"))\n",
      "    return(list(x$x,x$lower.90.pt,x$upper.90.pt))\n",
      "               \n",
      "}\n"
     ]
    }
   ],
   "source": [
    "print(forecast_ts1)"
   ]
  },
  {
   "cell_type": "code",
   "execution_count": null,
   "id": "5ee491d8-cfce-4972-a1ae-5f24b8edbb4c",
   "metadata": {},
   "outputs": [],
   "source": [
    "test<-forecast_ts1(1:100,\"ts\")\n",
    "test"
   ]
  },
  {
   "cell_type": "code",
   "execution_count": null,
   "id": "06e89043-1b8c-4843-9745-8d58505a5068",
   "metadata": {},
   "outputs": [],
   "source": []
  }
 ],
 "metadata": {
  "kernelspec": {
   "display_name": "R",
   "language": "R",
   "name": "ir"
  },
  "language_info": {
   "codemirror_mode": "r",
   "file_extension": ".r",
   "mimetype": "text/x-r-source",
   "name": "R",
   "pygments_lexer": "r",
   "version": "3.6.3"
  }
 },
 "nbformat": 4,
 "nbformat_minor": 5
}
